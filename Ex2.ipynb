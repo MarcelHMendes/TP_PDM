{
 "cells": [
  {
   "cell_type": "code",
   "execution_count": null,
   "id": "32772a3c",
   "metadata": {},
   "outputs": [],
   "source": [
    "import sys\n",
    "!{sys.executable} -m pip install wordcloud\n",
    "!{sys.executable} -m pip install pandas"
   ]
  },
  {
   "cell_type": "code",
   "execution_count": 1,
   "id": "b22f498a",
   "metadata": {},
   "outputs": [
    {
     "name": "stderr",
     "output_type": "stream",
     "text": [
      "22/01/23 22:17:00 WARN NativeCodeLoader: Unable to load native-hadoop library for your platform... using builtin-java classes where applicable\n",
      "Using Spark's default log4j profile: org/apache/spark/log4j-defaults.properties\n",
      "Setting default log level to \"WARN\".\n",
      "To adjust logging level use sc.setLogLevel(newLevel). For SparkR, use setLogLevel(newLevel).\n"
     ]
    }
   ],
   "source": [
    "from pyspark.sql import SparkSession\n",
    "\n",
    "spark = SparkSession.\\\n",
    "        builder.\\\n",
    "        appName(\"pyspark-notebook\").\\\n",
    "        master(\"spark://spark-master:7077\").\\\n",
    "        config(\"spark.executor.memory\", \"1g\").\\\n",
    "        getOrCreate()"
   ]
  },
  {
   "cell_type": "code",
   "execution_count": 6,
   "id": "a65c554e",
   "metadata": {},
   "outputs": [
    {
     "name": "stderr",
     "output_type": "stream",
     "text": [
      "/usr/local/lib/python3.9/dist-packages/pyspark/sql/session.py:378: UserWarning: inferring schema from dict is deprecated,please use pyspark.sql.Row instead\n",
      "  warnings.warn(\"inferring schema from dict is deprecated,\"\n",
      "                                                                                \r"
     ]
    }
   ],
   "source": [
    "from pyspark.sql.functions import split, explode, col, desc\n",
    "from pyspark.sql.types import StringType\n",
    "from pyspark.sql import functions \n",
    "import pandas\n",
    "import glob\n",
    "\n",
    "list_files = sorted(glob.glob(\"data/*.gz\"))\n",
    "\n",
    "for idx, file in enumerate(list_files):\n",
    "    df = spark.read.option(\"header\", \"true\").csv(file)\n",
    "    df = df.where(col(\"text\").isNotNull())\n",
    "    df = df.withColumn(\"text\",col(\"text\").cast(StringType()))\n",
    "    df = df.where(col(\"country_code\") == \"US\")\n",
    "    words = df.select(explode(split(\"text\", \"\\\\s+\")).alias(\"words\"), \"user_id\").where(col(\"text\").startswith(\"#\"))\n",
    "    words = words.select(\"words\", \"user_id\").alias(\"words\").where(col(\"words\").startswith(\"#\"))\n",
    "    words = words.select(\"user_id\").distinct().where( (col(\"words\") == \"#Covid19\")\n",
    "                                                    | (col(\"words\") == \"#Covid_19\")\n",
    "                                                    | (col(\"words\") == \"#coronavirus\")\n",
    "                                                    | (col(\"words\") == \"#covid19\")).count()\n",
    "    if idx == 0:\n",
    "        trendCount = spark.createDataFrame([{\"idx\": str(idx), \"trends\": str(words)}])\n",
    "    else:\n",
    "        df = spark.createDataFrame([{\"idx\": str(idx), \"trends\": str(words)}])\n",
    "        trendCount = trendCount.union(df)"
   ]
  },
  {
   "cell_type": "code",
   "execution_count": 7,
   "id": "e36f7d19",
   "metadata": {},
   "outputs": [
    {
     "name": "stderr",
     "output_type": "stream",
     "text": [
      "                                                                                \r"
     ]
    }
   ],
   "source": [
    "from datetime import datetime, timedelta\n",
    "\n",
    "trend = trendCount.toPandas()\n",
    "dates = list()\n",
    "date = datetime(2020, 4, 3)\n",
    "\n",
    "values = list()\n",
    "for day in range(6, 33):\n",
    "    dates.append(date)\n",
    "    date = date + timedelta(days=1)\n",
    "    idx= day-6\n",
    "    soma = 0\n",
    "    for i in range(idx, day):\n",
    "        soma += int(trend.iloc[i,1])\n",
    "    values.append(soma/6)"
   ]
  },
  {
   "cell_type": "code",
   "execution_count": 8,
   "id": "097f8a28",
   "metadata": {},
   "outputs": [
    {
     "data": {
      "image/png": "[encoded data removed]",
      "text/plain": [
       "<Figure size 432x288 with 1 Axes>"
      ]
     },
     "metadata": {
      "needs_background": "light"
     },
     "output_type": "display_data"
    }
   ],
   "source": [
    "import matplotlib.pyplot as plt\n",
    "from datetime import datetime, timedelta    \n",
    "\n",
    "plt.bar(dates, values, color='blue')\n",
    "plt.xlabel(\"Data\")\n",
    "plt.xticks(rotation='vertical')\n",
    "plt.ylabel(\"Média Móvel de comentários\")\n",
    "plt.title(\"Comentários relacionados a Covid19 ao longo dos dias\")\n",
    "\n",
    "plt.show()"
   ]
  },
  {
   "cell_type": "code",
   "execution_count": null,
   "id": "b30b3347",
   "metadata": {},
   "outputs": [],
   "source": []
  }
 ],
 "metadata": {
  "kernelspec": {
   "display_name": "Python 3 (ipykernel)",
   "language": "python",
   "name": "python3"
  },
  "language_info": {
   "codemirror_mode": {
    "name": "ipython",
    "version": 3
   },
   "file_extension": ".py",
   "mimetype": "text/x-python",
   "name": "python",
   "nbconvert_exporter": "python",
   "pygments_lexer": "ipython3",
   "version": "3.9.2"
  }
 },
 "nbformat": 4,
 "nbformat_minor": 5
}
