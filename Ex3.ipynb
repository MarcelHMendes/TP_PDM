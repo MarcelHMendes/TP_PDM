{
 "cells": [
  {
   "cell_type": "code",
   "execution_count": 1,
   "id": "a1406d89",
   "metadata": {},
   "outputs": [
    {
     "name": "stderr",
     "output_type": "stream",
     "text": [
      "22/01/23 20:25:29 WARN NativeCodeLoader: Unable to load native-hadoop library for your platform... using builtin-java classes where applicable\n",
      "Using Spark's default log4j profile: org/apache/spark/log4j-defaults.properties\n",
      "Setting default log level to \"WARN\".\n",
      "To adjust logging level use sc.setLogLevel(newLevel). For SparkR, use setLogLevel(newLevel).\n"
     ]
    }
   ],
   "source": [
    "from pyspark.sql import SparkSession\n",
    "\n",
    "spark = SparkSession.\\\n",
    "        builder.\\\n",
    "        appName(\"pyspark-notebook\").\\\n",
    "        master(\"spark://spark-master:7077\").\\\n",
    "        config(\"spark.executor.memory\", \"1g\").\\\n",
    "        getOrCreate()"
   ]
  },
  {
   "cell_type": "code",
   "execution_count": 2,
   "id": "e8924cca",
   "metadata": {},
   "outputs": [
    {
     "name": "stderr",
     "output_type": "stream",
     "text": [
      "                                                                                \r"
     ]
    }
   ],
   "source": [
    "df = spark.read.option(\"header\", \"true\").csv(\"data/*.gz\")\n"
   ]
  },
  {
   "cell_type": "code",
   "execution_count": 3,
   "id": "0007bd3d",
   "metadata": {},
   "outputs": [],
   "source": [
    "from pyspark.sql.functions import split, explode, col, desc\n",
    "from pyspark.sql.types import IntegerType\n",
    "import pyspark.sql.functions as F\n",
    "\n",
    "df = df.withColumn(\"friends_count\",col(\"friends_count\").cast(IntegerType()))\n",
    "df3 = df\n",
    "df4 = df\n",
    "df = df.select(\"screen_name\",\"user_id\",\"friends_count\",\"verified\").distinct().orderBy(col(\"friends_count\").desc())\n",
    "df = df.where(col(\"verified\") == \"TRUE\")\n",
    "df = df.where(col(\"friends_count\").isNotNull())\n",
    "df = df.where(col(\"user_id\").isNotNull())\n",
    "df2 = df\n",
    "df = df.select(\"*\").groupBy(\"user_id\").agg(F.max(\"friends_count\").alias(\"max\")).orderBy(col(\"max\").desc())\n",
    "\n",
    "df2 = df2.select(\"*\").groupBy(\"user_id\").agg(F.min(\"friends_count\").alias(\"min\")).orderBy(col(\"min\").desc())"
   ]
  },
  {
   "cell_type": "code",
   "execution_count": 4,
   "id": "d244892a",
   "metadata": {},
   "outputs": [],
   "source": [
    "df = df.join(df2, ['user_id'])\n"
   ]
  },
  {
   "cell_type": "code",
   "execution_count": 5,
   "id": "f8359cce",
   "metadata": {},
   "outputs": [],
   "source": [
    "df = df.withColumn(\"diff\", (df['max'] - df['min']))\n",
    "df = df.orderBy(col(\"diff\").desc())\n",
    "df = df.limit(1000)"
   ]
  },
  {
   "cell_type": "code",
   "execution_count": 6,
   "id": "9ea97ecf",
   "metadata": {},
   "outputs": [],
   "source": [
    "df3 = df3.where(col(\"user_id\").isNotNull())\n",
    "df3 = df3.groupBy(\"user_id\").count().orderBy(col(\"count\").desc())\n",
    "df3 = df3.orderBy(col(\"count\").desc())\n",
    "df3 = df3.limit(1000)\n",
    "#df = df.join(df3, df.user_id == df3.user_id, 'inner')\n",
    "df = df.join(df3, ['user_id'])"
   ]
  },
  {
   "cell_type": "code",
   "execution_count": 11,
   "id": "c2aa3c5b",
   "metadata": {},
   "outputs": [
    {
     "name": "stderr",
     "output_type": "stream",
     "text": [
      "[Stage 60:===================================================>  (192 + 2) / 200]\r"
     ]
    },
    {
     "name": "stdout",
     "output_type": "stream",
     "text": [
      "+---------+------+------+----+-----+\n",
      "|  user_id|   max|   min|diff|count|\n",
      "+---------+------+------+----+-----+\n",
      "|367210075| 79069| 75195|3874|  614|\n",
      "| 81081065| 10382|  7450|2932| 1912|\n",
      "|201079922| 11900|  9226|2674|  672|\n",
      "|      000|  1632|    64|1568| 5964|\n",
      "| 91946403| 95700| 94628|1072|  975|\n",
      "| 14562685| 95523| 94592| 931| 1280|\n",
      "|117109734|  2843|  2097| 746|  600|\n",
      "| 18936284|108490|107896| 594| 1135|\n",
      "| 67690947| 10898| 10356| 542|  771|\n",
      "| 14434407|   540|   100| 440|  650|\n",
      "| 22703339|  1407|   976| 431| 1214|\n",
      "| 74421223|  4769|  4396| 373|  756|\n",
      "| 14307494|  6936|  6645| 291|  582|\n",
      "| 18831926|  3888|  3645| 243|  924|\n",
      "| 58048133|  1997|  1769| 228|  657|\n",
      "| 34779125|  4377|  4183| 194|  564|\n",
      "|365216346|  4689|  4539| 150|  664|\n",
      "+---------+------+------+----+-----+\n",
      "\n"
     ]
    },
    {
     "name": "stderr",
     "output_type": "stream",
     "text": [
      "                                                                                \r"
     ]
    }
   ],
   "source": [
    "df.show()"
   ]
  },
  {
   "cell_type": "code",
   "execution_count": 10,
   "id": "206b0b6b",
   "metadata": {},
   "outputs": [
    {
     "name": "stderr",
     "output_type": "stream",
     "text": [
      "                                                                                \r"
     ]
    },
    {
     "name": "stdout",
     "output_type": "stream",
     "text": [
      "367210075\n"
     ]
    },
    {
     "name": "stderr",
     "output_type": "stream",
     "text": [
      "                                                                                \r"
     ]
    },
    {
     "name": "stdout",
     "output_type": "stream",
     "text": [
      "+--------------------+\n",
      "|              ngrams|\n",
      "+--------------------+\n",
      "|[#LoMásLeído | El...|\n",
      "|[#LoMásLeído | Re...|\n",
      "|[#LoMásLeído | @C...|\n",
      "|[#EspecialCoronav...|\n",
      "|[#EspecialCoronav...|\n",
      "|[#EspecialCoronav...|\n",
      "|[#EspecialCoronav...|\n",
      "|[🔴#ÚltimaHora Es...|\n",
      "|[#EspecialCoronav...|\n",
      "|[#LupaSanitaria ?...|\n",
      "|[#Madrid | Los, |...|\n",
      "|[#HéroesDeLaSalud...|\n",
      "|[#Cantabria | @ca...|\n",
      "|[#EspecialCoronav...|\n",
      "|[#EspecialCoronav...|\n",
      "|[#EspecialCoronav...|\n",
      "|[#TweetSaludable ...|\n",
      "|[#EspecialCoronav...|\n",
      "|[#Exclusiva | 25,...|\n",
      "|[#EspecialCoronav...|\n",
      "+--------------------+\n",
      "only showing top 20 rows\n",
      "\n",
      "81081065\n"
     ]
    },
    {
     "name": "stderr",
     "output_type": "stream",
     "text": [
      "                                                                                \r"
     ]
    },
    {
     "name": "stdout",
     "output_type": "stream",
     "text": [
      "+--------------------+\n",
      "|              ngrams|\n",
      "+--------------------+\n",
      "|[\"\"\"No tienen din...|\n",
      "|[Padres y profeso...|\n",
      "|[\"Las cuidadoras ...|\n",
      "|[El alcalde de, a...|\n",
      "|[👏 Innumerables ...|\n",
      "|[¿Cuáles han sido...|\n",
      "|[\"Grandes propiet...|\n",
      "|[👉 [ENCUESTA] ¿E...|\n",
      "|[#Manlleu trabaja...|\n",
      "|[Los líderes inde...|\n",
      "|[\"Los grandes ten...|\n",
      "|[\"\"\"Miles de caso...|\n",
      "|[\"\"\"Nos mandan de...|\n",
      "|[Hoy la firma, la...|\n",
      "|[💪 Así trabajan,...|\n",
      "|[En estos días, e...|\n",
      "|[🔴 #ÚltimaHora ?...|\n",
      "|[Las cárceles cat...|\n",
      "|[👉 📲 [ENCUESTA,...|\n",
      "|[\"Los grandes pro...|\n",
      "+--------------------+\n",
      "only showing top 20 rows\n",
      "\n",
      "201079922\n"
     ]
    },
    {
     "name": "stderr",
     "output_type": "stream",
     "text": [
      "                                                                                \r"
     ]
    },
    {
     "name": "stdout",
     "output_type": "stream",
     "text": [
      "+--------------------+\n",
      "|              ngrams|\n",
      "+--------------------+\n",
      "|[Confirma goberna...|\n",
      "|[#Coronavirus en ...|\n",
      "|[Lee @m_ebrard de...|\n",
      "|[Reporte #coronav...|\n",
      "|[Casos confirmado...|\n",
      "|[Reporte #Coronav...|\n",
      "|[El Empire State,...|\n",
      "|[Mujer de 95, de ...|\n",
      "|[Casos de #Corona...|\n",
      "|[Dudan en Wuhan, ...|\n",
      "|[Muere niña de, n...|\n",
      "|[En Khurramshahr,...|\n",
      "|[Guardan minuto d...|\n",
      "|[Informa @HectorA...|\n",
      "|[Trasciende que d...|\n",
      "|[En conferencia d...|\n",
      "|[En China mantien...|\n",
      "|[Llegan cóndores ...|\n",
      "|[Chris Cuomo, her...|\n",
      "|[#Coronavirus en ...|\n",
      "+--------------------+\n",
      "only showing top 20 rows\n",
      "\n",
      "000\n"
     ]
    },
    {
     "name": "stderr",
     "output_type": "stream",
     "text": [
      "                                                                                \r"
     ]
    },
    {
     "name": "stdout",
     "output_type": "stream",
     "text": [
      "+--------------------+\n",
      "|              ngrams|\n",
      "+--------------------+\n",
      "|[000 people infec...|\n",
      "|                  []|\n",
      "|                  []|\n",
      "|                  []|\n",
      "|                  []|\n",
      "|                  []|\n",
      "|[ I mean, I mean ...|\n",
      "|   [Twitter Web App]|\n",
      "|[000 de veces, de...|\n",
      "|[000 pacientes se...|\n",
      "|[000 de veces, de...|\n",
      "|   [Twitter Web App]|\n",
      "|[000 to provide, ...|\n",
      "|                  []|\n",
      "|[000 patients are...|\n",
      "|                  []|\n",
      "|                  []|\n",
      "|                  []|\n",
      "|[038 recoveries i...|\n",
      "|         [000 / 100]|\n",
      "+--------------------+\n",
      "only showing top 20 rows\n",
      "\n",
      "91946403\n"
     ]
    },
    {
     "name": "stderr",
     "output_type": "stream",
     "text": [
      "                                                                                \r"
     ]
    },
    {
     "name": "stdout",
     "output_type": "stream",
     "text": [
      "+---------------------------------+\n",
      "|                           ngrams|\n",
      "+---------------------------------+\n",
      "|     ['국난극복 vs 임시방편', ...|\n",
      "|       [\"정 총리 \"\"4월, 총리 \"...|\n",
      "|  [미 대형교회 목사,, 대형교회...|\n",
      "|                               []|\n",
      "|     ['나무 위 2주간, 위 2주간...|\n",
      "|   [코로나19 확진자 오늘, 확진...|\n",
      "|    [\"문 대통령 \"\"해외유입, 대...|\n",
      "| [코로나19로 서울시 공무원임용...|\n",
      "|    [\"우한 코로나19 사망자, 코...|\n",
      "|   [\"폭증하는 美 확진자…\"\"완벽...|\n",
      "|[의정부성모병원 간호사·간병인 ...|\n",
      "|      [올해 수능 12월, 수능 12...|\n",
      "|       [4월 9일 고3·중3부터, 9...|\n",
      "|     [\"\"\"완치자 '회복기 혈장',...|\n",
      "|      [\"4월 9일 순차, 9일 순차...|\n",
      "|  [\"온라인 개학에 수능, 개학에...|\n",
      "|    [코로나19 집단 감염, 집단 ...|\n",
      "|   [모두가 처음…사상 첫, 처음…...|\n",
      "|       [\"SNS서 \"\"집에 머물라\"\"...|\n",
      "|[지게차로 옮겨지는 시신…코로나...|\n",
      "+---------------------------------+\n",
      "only showing top 20 rows\n",
      "\n",
      "14562685\n"
     ]
    },
    {
     "name": "stderr",
     "output_type": "stream",
     "text": [
      "                                                                                \r"
     ]
    },
    {
     "name": "stdout",
     "output_type": "stream",
     "text": [
      "+--------------------+\n",
      "|              ngrams|\n",
      "+--------------------+\n",
      "|[MyPOV: hello spr...|\n",
      "|[@JuliaAngelenPR ...|\n",
      "|[MyPOV: if folks,...|\n",
      "|[@tal62 MyPOV: so...|\n",
      "|[MyPOV: the final...|\n",
      "|[MyPOV: home made...|\n",
      "|[MyPOV: too much,...|\n",
      "|[MyPOV: how to, h...|\n",
      "|[MyPOV: inside wh...|\n",
      "|[MypOv: why #tele...|\n",
      "|[MyPOV: MypOv: Qu...|\n",
      "|[MypOV: a good, a...|\n",
      "|[MyPOV: new calls...|\n",
      "|[@JoelViseeon MyP...|\n",
      "|[MyPOV:  India's,...|\n",
      "|[MyPOV: what do, ...|\n",
      "|[MyPOV: @bloomber...|\n",
      "|[MyPOV: Inside th...|\n",
      "|[Check out the, o...|\n",
      "|[MyPOV: Personal ...|\n",
      "+--------------------+\n",
      "only showing top 20 rows\n",
      "\n",
      "117109734\n"
     ]
    },
    {
     "name": "stderr",
     "output_type": "stream",
     "text": [
      "                                                                                \r"
     ]
    },
    {
     "name": "stdout",
     "output_type": "stream",
     "text": [
      "+--------------------+\n",
      "|              ngrams|\n",
      "+--------------------+\n",
      "|[#COVID_19 | No, ...|\n",
      "|[¿Los perros o, p...|\n",
      "|[#COVID_19 | Esta...|\n",
      "|[#COVID_19 | Una,...|\n",
      "|[#COVID_19 | Esta...|\n",
      "|[Carolina Soto y,...|\n",
      "|[Plácido Domingo ...|\n",
      "|[#COVID_19 | Alex...|\n",
      "|[#Covid_19 | Arti...|\n",
      "|[#COVID_19 | Esta...|\n",
      "|[#COVID_19 | ¡A, ...|\n",
      "|[#COVID_19 | Un, ...|\n",
      "|[Plácido Domingo ...|\n",
      "|[#COVID_19 | Hijo...|\n",
      "|[#COVID_19 | Fabi...|\n",
      "|[#COVID_19 | Cono...|\n",
      "|[#COVID_19 | #Vir...|\n",
      "|[#COVID_19 | Pres...|\n",
      "|[#COVID_19 | Evit...|\n",
      "|[#COVID_19 | Mito...|\n",
      "+--------------------+\n",
      "only showing top 20 rows\n",
      "\n",
      "18936284\n"
     ]
    },
    {
     "name": "stderr",
     "output_type": "stream",
     "text": [
      "                                                                                \r"
     ]
    },
    {
     "name": "stdout",
     "output_type": "stream",
     "text": [
      "+--------------------+\n",
      "|              ngrams|\n",
      "+--------------------+\n",
      "|[EARLIER: Moscow'...|\n",
      "|[#TodayInLatinAme...|\n",
      "|[“But what do, wh...|\n",
      "|[Soap really can,...|\n",
      "|[These robots are...|\n",
      "|[Once you underst...|\n",
      "|[This drone deliv...|\n",
      "|[#EmpireStateofMi...|\n",
      "|[As the COVID-19,...|\n",
      "|[As the #coronavi...|\n",
      "|[\"\"\"I'm excited a...|\n",
      "|[\"\"\"There'll be s...|\n",
      "|[Rep. @AOC spoke,...|\n",
      "|[Employees at TSU...|\n",
      "|[NY Gov. Andrew, ...|\n",
      "|[This doctor is, ...|\n",
      "|[A new Bosch, new...|\n",
      "|[\"\"\"I don't have,...|\n",
      "|[#COVID19USA: Her...|\n",
      "|[Missing the grea...|\n",
      "+--------------------+\n",
      "only showing top 20 rows\n",
      "\n",
      "67690947\n"
     ]
    },
    {
     "name": "stderr",
     "output_type": "stream",
     "text": [
      "                                                                                \r"
     ]
    },
    {
     "name": "stdout",
     "output_type": "stream",
     "text": [
      "+--------------------+\n",
      "|              ngrams|\n",
      "+--------------------+\n",
      "|[#Coronavirus | P...|\n",
      "|[Impact du #coron...|\n",
      "|[#Coronavirus | L...|\n",
      "|[#Coronavirus | ?...|\n",
      "|[#Coronavirus | ?...|\n",
      "|[#Coronavirus | ?...|\n",
      "|[#Coronavirus | L...|\n",
      "|[Personnes privée...|\n",
      "|[#Coronavirus  |,...|\n",
      "|[#Coronavirus | L...|\n",
      "|[#Coronavirus | ?...|\n",
      "|[#Coronavirus | ?...|\n",
      "|[#Coronavirus | #...|\n",
      "|[#Coronavirus | L...|\n",
      "|[🔵 #Coronavirus ...|\n",
      "|[Le système de, s...|\n",
      "|                  []|\n",
      "|[#COVID19 : «, : ...|\n",
      "|[#Coronavirus | L...|\n",
      "|[#Coronavirus | @...|\n",
      "+--------------------+\n",
      "only showing top 20 rows\n",
      "\n",
      "14434407\n"
     ]
    },
    {
     "name": "stderr",
     "output_type": "stream",
     "text": [
      "                                                                                \r"
     ]
    },
    {
     "name": "stdout",
     "output_type": "stream",
     "text": [
      "+--------------------+\n",
      "|              ngrams|\n",
      "+--------------------+\n",
      "|[Motivo do adiame...|\n",
      "|[#Covid19 | Logís...|\n",
      "|[#Covid19 | Itáli...|\n",
      "|[#Covid19 | Capit...|\n",
      "|[#Covid19 | Com, ...|\n",
      "|[#Covid19 | A, | ...|\n",
      "|[Impactada pela #...|\n",
      "|[#coronavirus | P...|\n",
      "|[Precisou ir às, ...|\n",
      "|[#Covid19 | @wils...|\n",
      "|[#COVID19 | Traba...|\n",
      "|[#Covid19 | Franç...|\n",
      "|[Secretária de Sa...|\n",
      "|[#COVID19 | A, | ...|\n",
      "|[#COVID19 : migra...|\n",
      "|[#COVID19: 500 mi...|\n",
      "|[Recolhimento do ...|\n",
      "|[#COVID19 leva bo...|\n",
      "|[🇪🇸 Espanha reg...|\n",
      "|[🛬Terminal 1 do,...|\n",
      "+--------------------+\n",
      "only showing top 20 rows\n",
      "\n",
      "22703339\n"
     ]
    },
    {
     "name": "stderr",
     "output_type": "stream",
     "text": [
      "                                                                                \r"
     ]
    },
    {
     "name": "stdout",
     "output_type": "stream",
     "text": [
      "+--------------------+\n",
      "|              ngrams|\n",
      "+--------------------+\n",
      "|[WATCH LIVE |, LI...|\n",
      "|[LOOK: So how, So...|\n",
      "|[#BREAKING: CDC c...|\n",
      "|[ALARMING: New Yo...|\n",
      "|[#COVID19 by the,...|\n",
      "|[#COVID19 cases b...|\n",
      "|[#BREAKING: More ...|\n",
      "|[#BREAKING: #COVI...|\n",
      "|[#COVID19 #corona...|\n",
      "|[#COVID19 cases b...|\n",
      "|[The day-to-day c...|\n",
      "|['I DON'T KNOW, D...|\n",
      "|[#BREAKING: Spain...|\n",
      "|[Latest #COVID19 ...|\n",
      "|[#BREAKING: @AP r...|\n",
      "|[SOUND UP: Italy,...|\n",
      "|[As health care, ...|\n",
      "|[#BREAKING: CNN A...|\n",
      "|[#BREAKING: New Y...|\n",
      "|[CONTEXT: Another...|\n",
      "+--------------------+\n",
      "only showing top 20 rows\n",
      "\n",
      "74421223\n"
     ]
    },
    {
     "name": "stderr",
     "output_type": "stream",
     "text": [
      "                                                                                \r"
     ]
    },
    {
     "name": "stdout",
     "output_type": "stream",
     "text": [
      "+--------------------+\n",
      "|              ngrams|\n",
      "+--------------------+\n",
      "|[\"El #BOE ha, #BO...|\n",
      "|[#sociedad #COVID...|\n",
      "|[#coronavirus Ent...|\n",
      "|[\"La Seimnc ha, S...|\n",
      "|[La rápida expans...|\n",
      "|[#coronavirus Org...|\n",
      "|[#Perú #Internaci...|\n",
      "|[#Internacional #...|\n",
      "|[\"#Internacional ...|\n",
      "|[#CoronavirusESP ...|\n",
      "|[#Perú #América E...|\n",
      "|[#Perú #Internaci...|\n",
      "|[#América #Perú L...|\n",
      "|[El número dos, n...|\n",
      "|[\"#coronavirus El...|\n",
      "|[\"#Ciudadanos ha ...|\n",
      "|[El ministro de, ...|\n",
      "|[La Bolsa español...|\n",
      "|[#coronavirusEspa...|\n",
      "|[#Sociedad La mad...|\n",
      "+--------------------+\n",
      "only showing top 20 rows\n",
      "\n",
      "14307494\n"
     ]
    },
    {
     "name": "stderr",
     "output_type": "stream",
     "text": [
      "                                                                                \r"
     ]
    },
    {
     "name": "stdout",
     "output_type": "stream",
     "text": [
      "+--------------------+\n",
      "|              ngrams|\n",
      "+--------------------+\n",
      "|[The latest insta...|\n",
      "|[\"\"\"P\"\" stands fo...|\n",
      "|[I'll use this, u...|\n",
      "|[So empathize. Th...|\n",
      "|[Where do you, do...|\n",
      "|[\"\"\"E\"\" stands fo...|\n",
      "|[\"\"\"C\"\" stands fo...|\n",
      "|[\"\"\"R\"\" stands fo...|\n",
      "|[Before ringing t...|\n",
      "|[Track details of...|\n",
      "|[\"\"\"S\"\" stands fo...|\n",
      "|[These are trying...|\n",
      "|[How many times, ...|\n",
      "|[(c) General mana...|\n",
      "|[\"(b) When they, ...|\n",
      "|[I’m generally mo...|\n",
      "|[My morning cry, ...|\n",
      "|[@EFMoriarty Than...|\n",
      "|[I’ve tried to, t...|\n",
      "|[The care here, c...|\n",
      "+--------------------+\n",
      "only showing top 20 rows\n",
      "\n",
      "18831926\n"
     ]
    },
    {
     "name": "stderr",
     "output_type": "stream",
     "text": [
      "                                                                                \r"
     ]
    },
    {
     "name": "stdout",
     "output_type": "stream",
     "text": [
      "+--------------------+\n",
      "|              ngrams|\n",
      "+--------------------+\n",
      "|[This case count,...|\n",
      "|[New York death, ...|\n",
      "|[Should we all, w...|\n",
      "|[📍Illinois: ‘We ...|\n",
      "|[⚠️MORTALITY REPO...|\n",
      "|[@Plan_Prep_Live ...|\n",
      "|[⚠️MASK please!!!...|\n",
      "|[Huge 20x underco...|\n",
      "|[2) “residents sa...|\n",
      "|[\"3) “It can't, “...|\n",
      "|[4) “https://t.co...|\n",
      "|[“Funeral homes h...|\n",
      "|[6) “Another popu...|\n",
      "|[7) “A source, “A...|\n",
      "|[8) “The source, ...|\n",
      "|[\"9) \"\"There have...|\n",
      "|[10) “nobody in, ...|\n",
      "|[\"11) \"\"But durin...|\n",
      "|[\"12) \"\"Anyone lo...|\n",
      "|[13) BOTTOMLINE: ...|\n",
      "+--------------------+\n",
      "only showing top 20 rows\n",
      "\n",
      "58048133\n"
     ]
    },
    {
     "name": "stderr",
     "output_type": "stream",
     "text": [
      "                                                                                \r"
     ]
    },
    {
     "name": "stdout",
     "output_type": "stream",
     "text": [
      "+--------------------+\n",
      "|              ngrams|\n",
      "+--------------------+\n",
      "|[Médicos europeos...|\n",
      "|[Revisa cuáles so...|\n",
      "|[Sin bajarse: Red...|\n",
      "|[Higiene y salud:...|\n",
      "|[Juez de Texas, d...|\n",
      "|[Balance eleva a,...|\n",
      "|[Instituto de Sal...|\n",
      "|[🔴 Subsecretario...|\n",
      "|[🔴 AMPLIADO Mins...|\n",
      "|[🔴 Subsecretaria...|\n",
      "|[Plácido Domingo ...|\n",
      "|[🔴 LO ÚLTIMO, LO...|\n",
      "|[\"FDA autoriza en...|\n",
      "|[¿Síntomas leves ...|\n",
      "|[Cuatro miembros ...|\n",
      "|[\"🔴  Ministro,  ...|\n",
      "|[🔴 Ministro de, ...|\n",
      "|[🔴 Francia regis...|\n",
      "|[Estados Unidos s...|\n",
      "|[Actor de Star, d...|\n",
      "+--------------------+\n",
      "only showing top 20 rows\n",
      "\n",
      "34779125\n"
     ]
    },
    {
     "name": "stderr",
     "output_type": "stream",
     "text": [
      "                                                                                \r"
     ]
    },
    {
     "name": "stdout",
     "output_type": "stream",
     "text": [
      "+--------------------+\n",
      "|              ngrams|\n",
      "+--------------------+\n",
      "|[\"No #RodaViva, @...|\n",
      "|[Íntegra da notíc...|\n",
      "|[#Covid19: Epidem...|\n",
      "|[#UtilidadePúblic...|\n",
      "|[Cara de pau, de ...|\n",
      "|[#UtilidadePúblic...|\n",
      "|[🇺🇸🚨 Iluminaçã...|\n",
      "|[No #RodaViva, pe...|\n",
      "|[#RendaBásica, an...|\n",
      "|[DOU de hoje:, de...|\n",
      "|[📈💻 Amanhã (2/a...|\n",
      "|[🇧🇷 Gramado do,...|\n",
      "|[Capitais brasile...|\n",
      "|[A maior tragédia...|\n",
      "|[Sargento de 46, ...|\n",
      "|[Necropolítica de...|\n",
      "|[OMS responde a, ...|\n",
      "|[Atenção: Em cade...|\n",
      "|[#UtilidadePúblic...|\n",
      "|[O número de, núm...|\n",
      "+--------------------+\n",
      "only showing top 20 rows\n",
      "\n",
      "365216346\n"
     ]
    },
    {
     "name": "stderr",
     "output_type": "stream",
     "text": [
      "[Stage 53:>                                                         (0 + 1) / 1]\r"
     ]
    },
    {
     "name": "stdout",
     "output_type": "stream",
     "text": [
      "+--------------------+\n",
      "|              ngrams|\n",
      "+--------------------+\n",
      "|[Latest on #COVID...|\n",
      "|[The US added, US...|\n",
      "|[China added 48, ...|\n",
      "|[Argentina added ...|\n",
      "|[China has postpo...|\n",
      "|[Latest on #COVID...|\n",
      "|[Taiwan added 16,...|\n",
      "|[Latest on #COVID...|\n",
      "|[The US added, US...|\n",
      "|[Spain added 6461...|\n",
      "|[Germany added 12...|\n",
      "|[Iran reported an...|\n",
      "|[The UK added, UK...|\n",
      "|[Switzerland adde...|\n",
      "|[Belgium added 87...|\n",
      "|[The Netherlands ...|\n",
      "|[Austria added 42...|\n",
      "|[South Korea adde...|\n",
      "|[Canada added 26,...|\n",
      "|[Portugal added 1...|\n",
      "+--------------------+\n",
      "only showing top 20 rows\n",
      "\n"
     ]
    },
    {
     "name": "stderr",
     "output_type": "stream",
     "text": [
      "                                                                                \r"
     ]
    }
   ],
   "source": [
    "from pyspark.ml.feature import NGram\n",
    "from pyspark.sql.types import StringType\n",
    "\n",
    "df4 = df4.where(col(\"text\").isNotNull())\n",
    "df4 = df4.withColumn(\"text\",col(\"text\").cast(StringType()))\n",
    "\n",
    "df_collect = df.collect()\n",
    "\n",
    "for row in df_collect:\n",
    "    df_ngram = df4.where(col(\"user_id\") == row['user_id'])\n",
    "    \n",
    "    df_new = df_ngram.withColumn(\"testing\", split(col(\"text\"),\" \"))\n",
    "    ngram = NGram().setN(3).setInputCol(\"testing\").setOutputCol(\"ngrams\")\n",
    "    ngramDataFrame = ngram.transform(df_new)\n",
    "    print(row['user_id'])\n",
    "    ngramDataFrame.select(\"ngrams\").show()"
   ]
  },
  {
   "cell_type": "code",
   "execution_count": null,
   "id": "bc2fea1d",
   "metadata": {},
   "outputs": [],
   "source": []
  },
  {
   "cell_type": "code",
   "execution_count": null,
   "id": "590353a8",
   "metadata": {},
   "outputs": [],
   "source": []
  }
 ],
 "metadata": {
  "kernelspec": {
   "display_name": "Python 3 (ipykernel)",
   "language": "python",
   "name": "python3"
  },
  "language_info": {
   "codemirror_mode": {
    "name": "ipython",
    "version": 3
   },
   "file_extension": ".py",
   "mimetype": "text/x-python",
   "name": "python",
   "nbconvert_exporter": "python",
   "pygments_lexer": "ipython3",
   "version": "3.9.2"
  }
 },
 "nbformat": 4,
 "nbformat_minor": 5
}
